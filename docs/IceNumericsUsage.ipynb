{
 "cells": [
  {
   "cell_type": "markdown",
   "metadata": {},
   "source": [
    "# Usage instructions\n",
    "\n",
    "The `icenumerics` package is a collection of classes and routines intended to facilitate the simulations of the [colloidal ice](https://doi.org/10.1038/ncomms10575). The actual simulation is done by [LAMMPS](http://lammps.sandia.gov), using a Brownian dynamics addon found in [Lammps_brownian](https://github.com/anyuzx/Lammps_brownian), as well as some custom modifications. For the complete lammps source, please check [here](https://github.com/aortiza/lammps).\n",
    "\n",
    "This package works by defining a colloidal ice system, creating LAMMPS input scripts, running them through a `os.system` command, and then reading the result from the `.lammpstrj` file. One advantage of this approach is that the output files can be read at a later time even after the workspace has been reset.\n",
    "\n",
    "Please note that this program is in an early stage of development and it should not be expected to do many more things than what are shown here. However, if you have a suggestion for further functionality, you can raise an [issue](https://github.com/aortiza/icenumerics/issues). And if you want to contribute, you can fork your copy of the package, and then do a pull request. "
   ]
  },
  {
   "cell_type": "markdown",
   "metadata": {},
   "source": [
    "## Importing the package\n",
    "\n",
    "The package is easily imported by writing;\n",
    "    \n",
    "    import icenumerics as ice"
   ]
  },
  {
   "cell_type": "code",
   "execution_count": 1,
   "metadata": {},
   "outputs": [],
   "source": [
    "# This only adds the package to the path.\n",
    "import os\n",
    "import sys \n",
    "sys.path.insert(0, '../')\n",
    "\n",
    "import icenumerics as ice\n",
    "\n",
    "import matplotlib.pyplot as plt\n",
    "%matplotlib inline"
   ]
  },
  {
   "cell_type": "markdown",
   "metadata": {},
   "source": [
    "### Importing the unit registry\n",
    "One caveat of using `pint` for unit management is that units from one registry can't operate with the units from another one. Therefore, the quantities defined in this script can only operate with quantities defined inside the `icenumerics` module, if we use the unit registry of the module. We can import it by writing:"
   ]
  },
  {
   "cell_type": "code",
   "execution_count": 2,
   "metadata": {},
   "outputs": [
    {
     "ename": "AttributeError",
     "evalue": "module 'icenumerics' has no attribute 'ureg'",
     "output_type": "error",
     "traceback": [
      "\u001b[0;31m---------------------------------------------------------------------------\u001b[0m",
      "\u001b[0;31mAttributeError\u001b[0m                            Traceback (most recent call last)",
      "\u001b[0;32m<ipython-input-2-b02bea3a0d78>\u001b[0m in \u001b[0;36m<module>\u001b[0;34m\u001b[0m\n\u001b[0;32m----> 1\u001b[0;31m \u001b[0mureg\u001b[0m \u001b[0;34m=\u001b[0m \u001b[0mice\u001b[0m\u001b[0;34m.\u001b[0m\u001b[0mureg\u001b[0m\u001b[0;34m\u001b[0m\u001b[0;34m\u001b[0m\u001b[0m\n\u001b[0m",
      "\u001b[0;31mAttributeError\u001b[0m: module 'icenumerics' has no attribute 'ureg'"
     ]
    }
   ],
   "source": [
    "ureg = ice.ureg"
   ]
  },
  {
   "cell_type": "markdown",
   "metadata": {},
   "source": [
    "## The Spin Ice object"
   ]
  },
  {
   "cell_type": "markdown",
   "metadata": {},
   "source": [
    "The first step towards a simulation is to construct a spin ice object. The spin ice will work as a template for the geometry of the colloidal ice later. \n",
    "\n",
    "To construct a spin ice object, we can write:"
   ]
  },
  {
   "cell_type": "code",
   "execution_count": null,
   "metadata": {},
   "outputs": [],
   "source": [
    "sp = ice.spins()\n",
    "sp.create_lattice(\"square\",[10,10],lattice_constant=30*ureg.um, border=\"periodic\")"
   ]
  },
  {
   "cell_type": "markdown",
   "metadata": {},
   "source": [
    "Next we can call the display function to see the graphic representation of the Spin Ice Object. The argument of the function is the axis object in which the figure will be plotted"
   ]
  },
  {
   "cell_type": "code",
   "execution_count": null,
   "metadata": {},
   "outputs": [],
   "source": [
    "f, (ax2) = plt.subplots(1,1,figsize = (8,8))\n",
    "sp.display(ax2)"
   ]
  },
  {
   "cell_type": "markdown",
   "metadata": {},
   "source": [
    "## The Colloidal Ice object"
   ]
  },
  {
   "cell_type": "markdown",
   "metadata": {},
   "source": [
    "From the spins object, we can construct a `colloidal_ice`  object. To do this, we need to define some initial parameters for the particles and traps. These two objects will be copied to each spin in the spin ice object."
   ]
  },
  {
   "cell_type": "code",
   "execution_count": null,
   "metadata": {},
   "outputs": [],
   "source": [
    "particle = ice.particle(radius = 5.15*ureg.um,\n",
    "             susceptibility = 0.0576,\n",
    "             diffusion = 0.125*ureg.um**2/ureg.s,\n",
    "             temperature = 300*ureg.K,\n",
    "             density = 1000*ureg.kg/ureg.m**3)\n",
    "\n",
    "trap = ice.trap(trap_sep = 10*ureg.um,\n",
    "               height = 80*ureg.pN*ureg.nm,\n",
    "               stiffness = 6e-4*ureg.pN/ureg.nm)\n",
    "\n",
    "col = ice.colloidal_ice(sp, particle, trap, height_spread = 0, susceptibility_spread = 0.1)\n",
    "col.pad_region(30*ureg.um)"
   ]
  },
  {
   "cell_type": "markdown",
   "metadata": {},
   "source": [
    "As before, the display function allows us to visualize the object."
   ]
  },
  {
   "cell_type": "code",
   "execution_count": null,
   "metadata": {},
   "outputs": [],
   "source": [
    "f, (ax2) = plt.subplots(1,1,figsize = (8,8))\n",
    "col.display(ax2)"
   ]
  },
  {
   "cell_type": "markdown",
   "metadata": {},
   "source": [
    "## Running a simulation\n",
    "\n",
    "Before running a simulation, we need to create a set of world parameters. This contains things like the field to be applied and the temperature."
   ]
  },
  {
   "cell_type": "code",
   "execution_count": null,
   "metadata": {},
   "outputs": [],
   "source": [
    "world = ice.world(\n",
    "    field = 10*ureg.mT,\n",
    "    temperature = 300*ureg.K,\n",
    "    dipole_cutoff = 200*ureg.um)"
   ]
  },
  {
   "cell_type": "markdown",
   "metadata": {},
   "source": [
    "To run the simulation, we use the method `simulate`. If you look at the terminal in which this notebook is running, you should see a LAMMPS output. This is the indicator that everything went well."
   ]
  },
  {
   "cell_type": "code",
   "execution_count": null,
   "metadata": {
    "scrolled": true
   },
   "outputs": [],
   "source": [
    "col.simulate(world,\n",
    "             name = \"test\",\n",
    "             include_timestamp = False,\n",
    "             targetdir = r\".\",\n",
    "             framerate = 1*ureg.Hz,\n",
    "             timestep = 10*ureg.ms,\n",
    "             run_time = 60*ureg.s,\n",
    "             output = [\"x\",\"y\",\"z\"])"
   ]
  },
  {
   "cell_type": "markdown",
   "metadata": {},
   "source": [
    "When the simulation is finished, it automatically reads the output file and updates the system to it's last position. Therefore, we can see the result by simply displaying again the `colloidal_ice` object"
   ]
  },
  {
   "cell_type": "code",
   "execution_count": null,
   "metadata": {},
   "outputs": [],
   "source": [
    "f, (ax2) = plt.subplots(1,1,figsize = (8,8))\n",
    "col.display(ax2)"
   ]
  },
  {
   "cell_type": "markdown",
   "metadata": {},
   "source": [
    "To access the system state at a different time in the simulation, we can use the method `set_state_from_frame(frame)`. "
   ]
  },
  {
   "cell_type": "code",
   "execution_count": null,
   "metadata": {},
   "outputs": [],
   "source": [
    "f, (ax1,ax2,ax3) = plt.subplots(1,3,figsize = (15,8))\n",
    "col.set_state_from_frame(0)\n",
    "col.display(ax1)\n",
    "col.set_state_from_frame(3)\n",
    "col.display(ax2)\n",
    "col.set_state_from_frame(59)\n",
    "col.display(ax3)"
   ]
  },
  {
   "cell_type": "markdown",
   "metadata": {},
   "source": [
    "## Simulation trajectories"
   ]
  },
  {
   "cell_type": "markdown",
   "metadata": {},
   "source": [
    "We can access the full trajectories of the particles, which are stored as a multiindex `pandas` array in the `trj` attribute. To access it, we can simply write \n",
    "    \n",
    "    col.trj\n",
    "    \n",
    "Below we use the method `head()`, which prints only the first few rows of a pandas array. This is useful to visualize the structure of an array. "
   ]
  },
  {
   "cell_type": "code",
   "execution_count": null,
   "metadata": {},
   "outputs": [],
   "source": [
    "col.trj.head()"
   ]
  },
  {
   "cell_type": "markdown",
   "metadata": {},
   "source": [
    "## Counting vertices\n",
    "Often we are interested in the vertex statistics of the colloidal ice system. The package provides some counting methods bundled in the `vertices` object."
   ]
  },
  {
   "cell_type": "code",
   "execution_count": null,
   "metadata": {},
   "outputs": [],
   "source": [
    "v = ice.vertices()\n",
    "v = v.colloids_to_vertices(col)"
   ]
  },
  {
   "cell_type": "markdown",
   "metadata": {},
   "source": [
    "We can display both objects on the same axis to see where specific vertex types are located. Vertex types are defined by their charge, and when they have neutral charge, by the sum of their elements. "
   ]
  },
  {
   "cell_type": "code",
   "execution_count": null,
   "metadata": {},
   "outputs": [],
   "source": [
    "f, (ax1) = plt.subplots(1,1,figsize = (8,8))\n",
    "\n",
    "v.display(ax1)\n",
    "col.display(ax1)"
   ]
  },
  {
   "cell_type": "markdown",
   "metadata": {},
   "source": [
    "Note here that the vertices are counted from the system state. If we want the vertices at different moments in time, we have to reset the system state to that frame."
   ]
  },
  {
   "cell_type": "code",
   "execution_count": null,
   "metadata": {},
   "outputs": [],
   "source": [
    "f, (ax1,ax2,ax3) = plt.subplots(1,3,figsize = (15,8))\n",
    "\n",
    "col.set_state_from_frame(0)\n",
    "v = v.colloids_to_vertices(col)\n",
    "\n",
    "v.display(ax1)\n",
    "col.display(ax1)\n",
    "\n",
    "col.set_state_from_frame(3)\n",
    "v = v.colloids_to_vertices(col)\n",
    "\n",
    "v.display(ax2)\n",
    "col.display(ax2)\n",
    "\n",
    "col.set_state_from_frame(59)\n",
    "v = v.colloids_to_vertices(col)\n",
    "\n",
    "v.display(ax3)\n",
    "col.display(ax3)"
   ]
  },
  {
   "cell_type": "markdown",
   "metadata": {},
   "source": [
    "##  Animating a trajectory\n",
    "The colloidal_ice object has an animate function. This function is based on matplotlib's [FuncAnimation](https://matplotlib.org/api/_as_gen/matplotlib.animation.FuncAnimation.html), and thus works similar. To use it, you first define an animation object:"
   ]
  },
  {
   "cell_type": "code",
   "execution_count": null,
   "metadata": {},
   "outputs": [],
   "source": [
    "anim = col.animate(sl=slice(0,-1,2),speed=10)"
   ]
  },
  {
   "cell_type": "markdown",
   "metadata": {},
   "source": [
    "This should be relatively fast, because the animation oject only defines the initialization and update function. The actual drawing is done when the animation object is used. \n",
    "\n",
    "To display the animation on a notebook you can write:"
   ]
  },
  {
   "cell_type": "code",
   "execution_count": null,
   "metadata": {},
   "outputs": [],
   "source": [
    "from IPython.display import HTML\n",
    "HTML(anim.to_html5_video())"
   ]
  },
  {
   "cell_type": "markdown",
   "metadata": {},
   "source": [
    "This normally takes some time, depending on the number of frames being animated. \n",
    "\n",
    "If you want to export the video, you can eihter drag it from your browser, or you can write:"
   ]
  },
  {
   "cell_type": "code",
   "execution_count": null,
   "metadata": {},
   "outputs": [],
   "source": [
    "anim.save(\"colloidal_ice_amazing_video.gif\",writer = \"imagemagick\")"
   ]
  },
  {
   "cell_type": "markdown",
   "metadata": {},
   "source": [
    "This last command requires [imagemagick](https://www.imagemagick.org/script/index.php) to be installed."
   ]
  },
  {
   "cell_type": "markdown",
   "metadata": {},
   "source": [
    "## Honeycomb Spin Ice"
   ]
  },
  {
   "cell_type": "markdown",
   "metadata": {},
   "source": [
    "We will try the exact same procedure with a Honeycomb configuration to ensure everything works"
   ]
  },
  {
   "cell_type": "code",
   "execution_count": null,
   "metadata": {},
   "outputs": [],
   "source": [
    "sp = ice.spins()\n",
    "sp.create_lattice(\"honeycomb\",[10,10],lattice_constant=35*ureg.um)\n",
    "\n",
    "f, (ax1) = plt.subplots(1,1,figsize = (8,8))\n",
    "sp.display(ax1)"
   ]
  },
  {
   "cell_type": "code",
   "execution_count": null,
   "metadata": {},
   "outputs": [],
   "source": [
    "particle = ice.particle(radius = 5.15*ureg.um,\n",
    "             susceptibility = 0.0576,\n",
    "             diffusion = 0.125*ureg.um**2/ureg.s,\n",
    "             temperature = 300*ureg.K,\n",
    "             density = 1000*ureg.kg/ureg.m**3)\n",
    " \n",
    "trap = ice.trap(trap_sep = 10*ureg.um,\n",
    "               height = 80*ureg.pN*ureg.nm,\n",
    "               stiffness = 6e-4*ureg.pN/ureg.nm)\n",
    "\n",
    "col = ice.colloidal_ice(sp, particle, trap, height_spread = 0, susceptibility_spread = 0.1)\n",
    "col.pad_region(10*ureg.um)\n",
    "\n",
    "f, (ax1) = plt.subplots(1,1,figsize = (8,8))\n",
    "col.display(ax1)"
   ]
  },
  {
   "cell_type": "code",
   "execution_count": null,
   "metadata": {},
   "outputs": [],
   "source": [
    "world = ice.world(\n",
    "    field = 10*ureg.mT,\n",
    "    temperature = 300*ureg.K,\n",
    "    dipole_cutoff = 20*ureg.um)\n",
    "\n",
    "col.simulate(world,\n",
    "             name = \"test\",\n",
    "             include_timestamp = False,\n",
    "             targetdir = r\".\",\n",
    "             framerate = 1*ureg.Hz,\n",
    "             timestep = 10*ureg.ms,\n",
    "             run_time = 60*ureg.s,\n",
    "             output = [\"x\",\"y\",\"z\"])"
   ]
  },
  {
   "cell_type": "code",
   "execution_count": null,
   "metadata": {},
   "outputs": [],
   "source": [
    "v = ice.vertices()\n",
    "f, (ax1,ax2,ax3) = plt.subplots(1,3,figsize = (15,8))\n",
    "\n",
    "col.set_state_from_frame(0)\n",
    "v = v.colloids_to_vertices(col)\n",
    "\n",
    "col.display(ax1)\n",
    "v.display(ax1)\n",
    "\n",
    "col.set_state_from_frame(3)\n",
    "v = v.colloids_to_vertices(col)\n",
    "\n",
    "col.display(ax2)\n",
    "v.display(ax2)\n",
    "\n",
    "col.set_state_from_frame(59)\n",
    "v = v.colloids_to_vertices(col)\n",
    "\n",
    "col.display(ax3)\n",
    "v.display(ax3)"
   ]
  }
 ],
 "metadata": {
  "anaconda-cloud": {},
  "kernelspec": {
   "display_name": "Python 3",
   "language": "python",
   "name": "python3"
  },
  "language_info": {
   "codemirror_mode": {
    "name": "ipython",
    "version": 3
   },
   "file_extension": ".py",
   "mimetype": "text/x-python",
   "name": "python",
   "nbconvert_exporter": "python",
   "pygments_lexer": "ipython3",
   "version": "3.6.10"
  }
 },
 "nbformat": 4,
 "nbformat_minor": 2
}
